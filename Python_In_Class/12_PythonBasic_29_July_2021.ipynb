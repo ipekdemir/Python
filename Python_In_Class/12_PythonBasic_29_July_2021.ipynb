{
  "nbformat": 4,
  "nbformat_minor": 5,
  "metadata": {
    "kernelspec": {
      "display_name": "Python 3",
      "language": "python",
      "name": "python3"
    },
    "language_info": {
      "codemirror_mode": {
        "name": "ipython",
        "version": 3
      },
      "file_extension": ".py",
      "mimetype": "text/x-python",
      "name": "python",
      "nbconvert_exporter": "python",
      "pygments_lexer": "ipython3",
      "version": "3.8.8"
    },
    "colab": {
      "name": "12_PythonBasic_29-July-2021.ipynb",
      "provenance": [],
      "collapsed_sections": []
    }
  },
  "cells": [
    {
      "cell_type": "markdown",
      "metadata": {
        "id": "406f2981"
      },
      "source": [
        "<img src=\"https://docs.google.com/uc?id=14xeXxFrVRjvOoUYWn_GuyE-v84wVzrqr\" class=\"img-fluid\" alt=\"CLRWY\" width=\"400\" height=\"200\">"
      ],
      "id": "406f2981"
    },
    {
      "cell_type": "markdown",
      "metadata": {
        "id": "22263af8"
      },
      "source": [
        "<h1><p style=\"text-align: center; color:darkblue\">Python In-Class, <br>29 July 2021</p><h1>"
      ],
      "id": "22263af8"
    },
    {
      "cell_type": "code",
      "metadata": {
        "id": "e785cd9c"
      },
      "source": [
        "numbers = [11, 36, 33, 66, 89, 21, 32, 16, 10]"
      ],
      "id": "e785cd9c",
      "execution_count": null,
      "outputs": []
    },
    {
      "cell_type": "code",
      "metadata": {
        "id": "2073f525",
        "outputId": "43165a71-3aed-4e3b-efb9-3996aeee7cf0"
      },
      "source": [
        "odds = 0\n",
        "evens = 0\n",
        "\n",
        "for i in numbers :\n",
        "    if not i % 2 :\n",
        "        evens += 1\n",
        "    else :\n",
        "        odds += 1\n",
        "print(\"The sum of odd numbers are :\", odds)\n",
        "print(\"The sum of evens numbers are :\", evens)"
      ],
      "id": "2073f525",
      "execution_count": null,
      "outputs": [
        {
          "output_type": "stream",
          "text": [
            "The sum of odd numbers are : 4\n",
            "The sum of evens numbers are : 5\n"
          ],
          "name": "stdout"
        }
      ]
    },
    {
      "cell_type": "code",
      "metadata": {
        "id": "d1e5670a",
        "outputId": "a1108168-eb8f-477a-ef88-fcb8a3465eb8"
      },
      "source": [
        "odds = 0\n",
        "evens = 0\n",
        "\n",
        "for i in numbers :\n",
        "    if i % 2 :\n",
        "        odds += 1\n",
        "    else :\n",
        "        evens += 1\n",
        "print(\"The sum of odd numbers are :\", odds)\n",
        "print(\"The sum of evens numbers are :\", evens)"
      ],
      "id": "d1e5670a",
      "execution_count": null,
      "outputs": [
        {
          "output_type": "stream",
          "text": [
            "The sum of odd numbers are : 4\n",
            "The sum of evens numbers are : 5\n"
          ],
          "name": "stdout"
        }
      ]
    },
    {
      "cell_type": "code",
      "metadata": {
        "id": "792b4ee0",
        "outputId": "9e27ef6d-9832-41b7-cf18-4f1100f30b71"
      },
      "source": [
        "toplam = 0\n",
        "\n",
        "for i in range(1,75) :\n",
        "    toplam += i\n",
        "print(toplam)"
      ],
      "id": "792b4ee0",
      "execution_count": null,
      "outputs": [
        {
          "output_type": "stream",
          "text": [
            "2775\n"
          ],
          "name": "stdout"
        }
      ]
    },
    {
      "cell_type": "markdown",
      "metadata": {
        "id": "d4b81f0f"
      },
      "source": [
        "## List Comprehension"
      ],
      "id": "d4b81f0f"
    },
    {
      "cell_type": "code",
      "metadata": {
        "id": "30fb44d9",
        "outputId": "514fad1c-c49d-400e-d012-7a287194e2e6"
      },
      "source": [
        "listem = []\n",
        "\n",
        "for i in range(5) :\n",
        "    listem.append(i)\n",
        "listem"
      ],
      "id": "30fb44d9",
      "execution_count": null,
      "outputs": [
        {
          "output_type": "execute_result",
          "data": {
            "text/plain": [
              "[0, 1, 2, 3, 4]"
            ]
          },
          "metadata": {
            "tags": []
          },
          "execution_count": 7
        }
      ]
    },
    {
      "cell_type": "markdown",
      "metadata": {
        "id": "7cbe402e"
      },
      "source": [
        "```python\n",
        "\n",
        "for item in iterable :\n",
        "    expression\n",
        "\n",
        "\n",
        "[expression for item in iterable]\n",
        "```"
      ],
      "id": "7cbe402e"
    },
    {
      "cell_type": "code",
      "metadata": {
        "id": "250c0978",
        "outputId": "9d88cf71-5298-4d46-b50e-35abd30e5d88"
      },
      "source": [
        "[item for item in range(5)]"
      ],
      "id": "250c0978",
      "execution_count": null,
      "outputs": [
        {
          "output_type": "execute_result",
          "data": {
            "text/plain": [
              "[0, 1, 2, 3, 4]"
            ]
          },
          "metadata": {
            "tags": []
          },
          "execution_count": 8
        }
      ]
    },
    {
      "cell_type": "code",
      "metadata": {
        "id": "c2acca0d",
        "outputId": "1912ba03-4bfe-4b27-9b6b-9bb88cc833f7"
      },
      "source": [
        "[i ** 2  for i in range(5)]"
      ],
      "id": "c2acca0d",
      "execution_count": null,
      "outputs": [
        {
          "output_type": "execute_result",
          "data": {
            "text/plain": [
              "[0, 1, 4, 9, 16]"
            ]
          },
          "metadata": {
            "tags": []
          },
          "execution_count": 9
        }
      ]
    },
    {
      "cell_type": "markdown",
      "metadata": {
        "id": "03949ef8"
      },
      "source": [
        "## Ternary `if` Statements"
      ],
      "id": "03949ef8"
    },
    {
      "cell_type": "code",
      "metadata": {
        "id": "04ceb74f",
        "outputId": "c94a5dea-3254-42be-af0d-51931b20c924"
      },
      "source": [
        "condition = False\n",
        "\n",
        "if condition :\n",
        "    a = 1\n",
        "else :\n",
        "    a = 0\n",
        "    \n",
        "print(a)"
      ],
      "id": "04ceb74f",
      "execution_count": null,
      "outputs": [
        {
          "output_type": "stream",
          "text": [
            "0\n"
          ],
          "name": "stdout"
        }
      ]
    },
    {
      "cell_type": "markdown",
      "metadata": {
        "id": "70019fa2"
      },
      "source": [
        "```python\n",
        "\n",
        "if_body if condition else else_body \n",
        "\n",
        "```"
      ],
      "id": "70019fa2"
    },
    {
      "cell_type": "code",
      "metadata": {
        "id": "15692f68",
        "outputId": "d4d829a4-a642-447d-8a74-f1985028e8bc"
      },
      "source": [
        "1 if condition else 0"
      ],
      "id": "15692f68",
      "execution_count": null,
      "outputs": [
        {
          "output_type": "execute_result",
          "data": {
            "text/plain": [
              "0"
            ]
          },
          "metadata": {
            "tags": []
          },
          "execution_count": 12
        }
      ]
    },
    {
      "cell_type": "code",
      "metadata": {
        "id": "55b5e4da",
        "outputId": "04e2e16f-90a2-4f5e-eeb7-2ef84b5bfa78"
      },
      "source": [
        "condition = True\n",
        "1 if condition else 0"
      ],
      "id": "55b5e4da",
      "execution_count": null,
      "outputs": [
        {
          "output_type": "execute_result",
          "data": {
            "text/plain": [
              "1"
            ]
          },
          "metadata": {
            "tags": []
          },
          "execution_count": 13
        }
      ]
    },
    {
      "cell_type": "code",
      "metadata": {
        "id": "1a825b67",
        "outputId": "44b7e2fe-7365-42e1-c093-550462cffedc"
      },
      "source": [
        "a = 1 if condition else 0\n",
        "print(a)"
      ],
      "id": "1a825b67",
      "execution_count": null,
      "outputs": [
        {
          "output_type": "stream",
          "text": [
            "1\n"
          ],
          "name": "stdout"
        }
      ]
    },
    {
      "cell_type": "code",
      "metadata": {
        "id": "619a353c",
        "outputId": "9221a9a7-747a-431b-fe3c-7fef44b7fada"
      },
      "source": [
        "print(1 if False else 0)"
      ],
      "id": "619a353c",
      "execution_count": null,
      "outputs": [
        {
          "output_type": "stream",
          "text": [
            "0\n"
          ],
          "name": "stdout"
        }
      ]
    },
    {
      "cell_type": "code",
      "metadata": {
        "id": "5344145d"
      },
      "source": [
        "listem = [1, 2, 3, 4, 5, 6]"
      ],
      "id": "5344145d",
      "execution_count": null,
      "outputs": []
    },
    {
      "cell_type": "code",
      "metadata": {
        "id": "ea8eb118",
        "outputId": "10bb40af-8541-4878-916f-f071a1786de3"
      },
      "source": [
        "[i**2 for i in listem]"
      ],
      "id": "ea8eb118",
      "execution_count": null,
      "outputs": [
        {
          "output_type": "execute_result",
          "data": {
            "text/plain": [
              "[1, 4, 9, 16, 25, 36]"
            ]
          },
          "metadata": {
            "tags": []
          },
          "execution_count": 17
        }
      ]
    },
    {
      "cell_type": "code",
      "metadata": {
        "id": "4614042c",
        "outputId": "27e5277d-750f-4ef5-cfb9-f31bfbb2ca88"
      },
      "source": [
        "[i**2 for i in listem if i % 2]"
      ],
      "id": "4614042c",
      "execution_count": null,
      "outputs": [
        {
          "output_type": "execute_result",
          "data": {
            "text/plain": [
              "[1, 9, 25]"
            ]
          },
          "metadata": {
            "tags": []
          },
          "execution_count": 18
        }
      ]
    },
    {
      "cell_type": "code",
      "metadata": {
        "id": "d993a519",
        "outputId": "9c820218-5d65-4f43-cff5-9b061c7c3de7"
      },
      "source": [
        "[i**2 for i in listem] if i % 2"
      ],
      "id": "d993a519",
      "execution_count": null,
      "outputs": [
        {
          "output_type": "error",
          "ename": "SyntaxError",
          "evalue": "invalid syntax (<ipython-input-19-2fbbbe516f4a>, line 1)",
          "traceback": [
            "\u001b[0;36m  File \u001b[0;32m\"<ipython-input-19-2fbbbe516f4a>\"\u001b[0;36m, line \u001b[0;32m1\u001b[0m\n\u001b[0;31m    [i**2 for i in listem] if i % 2\u001b[0m\n\u001b[0m                                   ^\u001b[0m\n\u001b[0;31mSyntaxError\u001b[0m\u001b[0;31m:\u001b[0m invalid syntax\n"
          ]
        }
      ]
    },
    {
      "cell_type": "code",
      "metadata": {
        "id": "3270bacd"
      },
      "source": [
        "listA = [\"susan\", \"tom\", False, 0, \"0\"]"
      ],
      "id": "3270bacd",
      "execution_count": null,
      "outputs": []
    },
    {
      "cell_type": "code",
      "metadata": {
        "id": "c544168e"
      },
      "source": [
        "havadaki_object = filter(None, listA)"
      ],
      "id": "c544168e",
      "execution_count": null,
      "outputs": []
    },
    {
      "cell_type": "code",
      "metadata": {
        "id": "a36b04ca",
        "outputId": "f2a6b870-03d2-4ca7-9722-18268ffba361"
      },
      "source": [
        "havadaki_object"
      ],
      "id": "a36b04ca",
      "execution_count": null,
      "outputs": [
        {
          "output_type": "execute_result",
          "data": {
            "text/plain": [
              "<filter at 0x7fd09991dc10>"
            ]
          },
          "metadata": {
            "tags": []
          },
          "execution_count": 27
        }
      ]
    },
    {
      "cell_type": "code",
      "metadata": {
        "id": "57886b7e",
        "outputId": "64bb8e0c-f4d4-4a7e-a501-7d5be2a71af5"
      },
      "source": [
        "for i in havadaki_object :\n",
        "    print(i)"
      ],
      "id": "57886b7e",
      "execution_count": null,
      "outputs": [
        {
          "output_type": "stream",
          "text": [
            "susan\n",
            "tom\n",
            "0\n"
          ],
          "name": "stdout"
        }
      ]
    },
    {
      "cell_type": "code",
      "metadata": {
        "id": "bd1f4e3b"
      },
      "source": [
        ""
      ],
      "id": "bd1f4e3b",
      "execution_count": null,
      "outputs": []
    }
  ]
}